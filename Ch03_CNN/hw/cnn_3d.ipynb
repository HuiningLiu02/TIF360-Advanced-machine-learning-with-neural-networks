{
 "cells": [
  {
   "cell_type": "code",
   "execution_count": 7,
   "id": "7bd880e9-c28f-40f3-b408-42fbf0b5aaad",
   "metadata": {},
   "outputs": [
    {
     "name": "stdout",
     "output_type": "stream",
     "text": [
      "(4, 3, 4)\n"
     ]
    }
   ],
   "source": [
    "import numpy as np\n",
    "\n",
    "\n",
    "checkerboard = np.array([\n",
    "    [[1, 1, 0, 0],\n",
    "     [1, 1, 0, 0],\n",
    "     [1, 1, 0, 0]],\n",
    "    [[1, 1, 0, 0],\n",
    "     [1, 1, 0, 0],\n",
    "     [1, 1, 0, 0]],\n",
    "    [[0, 0, 1, 1],\n",
    "     [0, 0, 1, 1],\n",
    "     [0, 0, 1, 1]],\n",
    "    [[0, 0, 1, 1],\n",
    "     [0, 0, 1, 1],\n",
    "     [0, 0, 1, 1]],\n",
    "])\n",
    "print(checkerboard.shape)"
   ]
  },
  {
   "cell_type": "markdown",
   "id": "25687919-5a5b-4623-a443-3aafa0c0ecc6",
   "metadata": {},
   "source": [
    "### Local averaging of the volume"
   ]
  },
  {
   "cell_type": "code",
   "execution_count": 16,
   "id": "946948ee-45c7-4180-a2c7-0fc4a6a9b629",
   "metadata": {},
   "outputs": [
    {
     "name": "stdout",
     "output_type": "stream",
     "text": [
      "[[[1.  0.5 0. ]\n",
      "  [1.  0.5 0. ]]\n",
      "\n",
      " [[0.5 0.5 0.5]\n",
      "  [0.5 0.5 0.5]]\n",
      "\n",
      " [[0.  0.5 1. ]\n",
      "  [0.  0.5 1. ]]]\n"
     ]
    }
   ],
   "source": [
    "filter3d = np.ones((2, 2, 2)) / 8\n",
    "\n",
    "conv3d_height = checkerboard.shape[0] - filter3d.shape[0] + 1\n",
    "conv3d_width = checkerboard.shape[1] - filter3d.shape[1] + 1\n",
    "conv3d_depth = checkerboard.shape[2] - filter3d.shape[2] + 1\n",
    "\n",
    "conv3d = np.zeros((conv3d_height, conv3d_width, conv3d_depth))\n",
    "for i in range(conv3d_height):\n",
    "    for j in range(conv3d_width):\n",
    "        for k in range(conv3d_depth):\n",
    "            conv3d[i, j, k] = np.sum(\n",
    "                checkerboard[i:i + filter3d.shape[0], j:j + filter3d.shape[1], k:k + filter3d.shape[2]] * filter3d\n",
    "            )\n",
    "\n",
    "print(conv3d)"
   ]
  },
  {
   "cell_type": "markdown",
   "id": "bd44c61d-58d8-46fb-ba6a-842359766082",
   "metadata": {},
   "source": [
    "### Edge detection"
   ]
  },
  {
   "cell_type": "code",
   "execution_count": 31,
   "id": "b6deef89-4e83-404b-aa24-a4027e92bad6",
   "metadata": {},
   "outputs": [
    {
     "name": "stdout",
     "output_type": "stream",
     "text": [
      "[[[ 0.  4.  0.]\n",
      "  [ 0.  4.  0.]]\n",
      "\n",
      " [[ 0.  0.  0.]\n",
      "  [ 0.  0.  0.]]\n",
      "\n",
      " [[ 0. -4.  0.]\n",
      "  [ 0. -4.  0.]]]\n"
     ]
    }
   ],
   "source": [
    "filter3d = np.array([\n",
    "    [[1, -1],\n",
    "     [1,-1]],\n",
    "    [[1, -1],\n",
    "     [1,-1]],\n",
    "])\n",
    "\n",
    "conv3d_height = checkerboard.shape[0] - filter3d.shape[0] + 1\n",
    "conv3d_width = checkerboard.shape[1] - filter3d.shape[1] + 1\n",
    "conv3d_depth = checkerboard.shape[2] - filter3d.shape[2] + 1\n",
    "\n",
    "conv3d = np.zeros((conv3d_height, conv3d_width, conv3d_depth))\n",
    "for i in range(conv3d_height):\n",
    "    for j in range(conv3d_width):\n",
    "        for k in range(conv3d_depth):\n",
    "            conv3d[i, j, k] = np.sum(\n",
    "                checkerboard[i:i + filter3d.shape[0], j:j + filter3d.shape[1], k:k + filter3d.shape[2]] * filter3d\n",
    "            )\n",
    "print(conv3d)\n"
   ]
  },
  {
   "cell_type": "code",
   "execution_count": 29,
   "id": "6625609a-b869-4876-bce1-f3808e57bf40",
   "metadata": {},
   "outputs": [
    {
     "name": "stdout",
     "output_type": "stream",
     "text": [
      "[[[8. 8.]]\n",
      "\n",
      " [[3. 3.]]\n",
      "\n",
      " [[8. 8.]]]\n"
     ]
    }
   ],
   "source": [
    "filter3d_x = np.array([\n",
    "    [[ 1,  0, -1], \n",
    "     [ 2,  0, -2], \n",
    "     [ 1,  0, -1]],\n",
    "    \n",
    "    [[ 1,  0, -1], \n",
    "     [ 2,  0, -2], \n",
    "     [ 1,  0, -1]],\n",
    "])  # 检测 X 方向边缘\n",
    "# Y 方向边缘检测\n",
    "filter3d_y = np.array([\n",
    "    [[ 1,  2,  1], \n",
    "     [ 0,  0,  0], \n",
    "     [-1, -2, -1]],\n",
    "    \n",
    "    [[ 1,  2,  1], \n",
    "     [ 0,  0,  0], \n",
    "     [-1, -2, -1]],\n",
    "])\n",
    "\n",
    "# Z 方向边缘检测\n",
    "filter3d_z = np.array([\n",
    "    [[ 1,  1,  1], \n",
    "     [ 1,  1,  1], \n",
    "     [ 1,  1,  1]],\n",
    "    \n",
    "    [[-1, -1, -1], \n",
    "     [-1, -1, -1], \n",
    "     [-1, -1, -1]],\n",
    "])\n",
    "\n",
    "def conv3d(image, kernel):\n",
    "    conv_height = image.shape[0] - kernel.shape[0] + 1\n",
    "    conv_width = image.shape[1] - kernel.shape[1] + 1\n",
    "    conv_depth = image.shape[2] - kernel.shape[2] + 1\n",
    "\n",
    "    conv_result = np.zeros((conv_height, conv_width, conv_depth))\n",
    "    for i in range(conv_height):\n",
    "        for j in range(conv_width):\n",
    "            for k in range(conv_depth):\n",
    "                conv_result[i, j, k] = np.sum(\n",
    "                    image[i:i + kernel.shape[0], j:j + kernel.shape[1], k:k + kernel.shape[2]] * kernel\n",
    "                )\n",
    "    return conv_result\n",
    "edge_x = conv3d(checkerboard, filter3d_x)\n",
    "edge_y = conv3d(checkerboard, filter3d_y)\n",
    "edge_z = conv3d(checkerboard, filter3d_z)\n",
    "total_edge = np.sqrt(edge_x ** 2 + edge_y ** 2 + edge_z ** 2)  # 计算总的梯度\n",
    "#print(conv3d)\n",
    "print(total_edge)"
   ]
  },
  {
   "cell_type": "code",
   "execution_count": 21,
   "id": "f5aa280a-c69e-4de6-bf14-3861ddeb6dbd",
   "metadata": {},
   "outputs": [
    {
     "name": "stdout",
     "output_type": "stream",
     "text": [
      "(2, 2, 2)\n"
     ]
    }
   ],
   "source": [
    "filter3d = np.array([\n",
    "    [[1, -1],\n",
    "     [1,-1]],\n",
    "    [[1, -1],\n",
    "     [1,-1]],\n",
    "])\n",
    "print(filter3d.shape)"
   ]
  },
  {
   "cell_type": "code",
   "execution_count": null,
   "id": "2f142cc2-445e-44b7-99ec-30aef434b126",
   "metadata": {},
   "outputs": [],
   "source": []
  }
 ],
 "metadata": {
  "kernelspec": {
   "display_name": "Python 3 (ipykernel)",
   "language": "python",
   "name": "python3"
  },
  "language_info": {
   "codemirror_mode": {
    "name": "ipython",
    "version": 3
   },
   "file_extension": ".py",
   "mimetype": "text/x-python",
   "name": "python",
   "nbconvert_exporter": "python",
   "pygments_lexer": "ipython3",
   "version": "3.12.4"
  }
 },
 "nbformat": 4,
 "nbformat_minor": 5
}
